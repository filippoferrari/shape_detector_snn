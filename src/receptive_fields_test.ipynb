{
 "cells": [
  {
   "cell_type": "code",
   "execution_count": 1,
   "metadata": {},
   "outputs": [
    {
     "name": "stdout",
     "output_type": "stream",
     "text": [
      "['/Users/ff/dev/project', '/Users/ff/dev/project', '/Users/ff/dev/pyDVS', '/Users/ff/.pyenv/versions/3.7.0/lib/python37.zip', '/Users/ff/.pyenv/versions/3.7.0/lib/python3.7', '/Users/ff/.pyenv/versions/3.7.0/lib/python3.7/lib-dynload', '', '/Users/ff/.pyenv/versions/3.7.0/envs/py37/lib/python3.7/site-packages', '/Users/ff/.pyenv/versions/3.7.0/envs/py37/lib/python3.7/site-packages/IPython/extensions', '/Users/ff/.ipython']\n"
     ]
    }
   ],
   "source": [
    "%matplotlib inline\n",
    "import matplotlib.pyplot as plt\n",
    "import numpy as np\n",
    "import sys\n",
    "\n",
    "print(sys.path)"
   ]
  },
  {
   "cell_type": "code",
   "execution_count": 3,
   "metadata": {},
   "outputs": [],
   "source": [
    "from src.network_utils.receptive_fields import *"
   ]
  },
  {
   "cell_type": "code",
   "execution_count": 4,
   "metadata": {},
   "outputs": [],
   "source": [
    "cam_res = 12"
   ]
  },
  {
   "cell_type": "code",
   "execution_count": 5,
   "metadata": {},
   "outputs": [
    {
     "name": "stdout",
     "output_type": "stream",
     "text": [
      "[(0, 0), (12, 0)]\n",
      "[(1, 0), (13, 0), (25, 0)]\n"
     ]
    }
   ],
   "source": [
    "hp = horizontal_connectivity_pos(cam_res, 0, 0, cam_res)\n",
    "print(hp)\n",
    "\n",
    "hn = horizontal_connectivity_neg(cam_res, 0, 0, cam_res)\n",
    "print(hn)"
   ]
  },
  {
   "cell_type": "code",
   "execution_count": 6,
   "metadata": {},
   "outputs": [
    {
     "name": "stdout",
     "output_type": "stream",
     "text": [
      "0\n",
      "12\n",
      "24\n",
      "36\n",
      "48\n",
      "60\n",
      "72\n",
      "84\n",
      "96\n",
      "108\n",
      "120\n",
      "132\n"
     ]
    }
   ],
   "source": [
    "for x in range(0,cam_res):\n",
    "    print(neuron_id(x, 0, cam_res))"
   ]
  },
  {
   "cell_type": "code",
   "execution_count": 7,
   "metadata": {},
   "outputs": [
    {
     "name": "stdout",
     "output_type": "stream",
     "text": [
      "[(116, 128), (128, 128), (140, 128)]\n",
      "[(103, 128), (115, 128), (127, 128), (139, 128), (105, 128), (117, 128), (129, 128), (141, 128)]\n"
     ]
    }
   ],
   "source": [
    "hp = horizontal_connectivity_pos(cam_res, 10, 8, cam_res)\n",
    "print(hp)\n",
    "\n",
    "hn = horizontal_connectivity_neg(cam_res, 10, 8, cam_res)\n",
    "print(hn)"
   ]
  },
  {
   "cell_type": "code",
   "execution_count": 8,
   "metadata": {},
   "outputs": [
    {
     "name": "stdout",
     "output_type": "stream",
     "text": [
      "[(131, 143), (143, 143)]\n",
      "[(118, 143), (130, 143), (142, 143)]\n"
     ]
    }
   ],
   "source": [
    "hp = horizontal_connectivity_pos(cam_res, 11, 11, cam_res)\n",
    "print(hp)\n",
    "\n",
    "hn = horizontal_connectivity_neg(cam_res, 11, 11, cam_res)\n",
    "print(hn)"
   ]
  },
  {
   "cell_type": "code",
   "execution_count": null,
   "metadata": {},
   "outputs": [],
   "source": []
  }
 ],
 "metadata": {
  "kernelspec": {
   "display_name": "Python 3",
   "language": "python",
   "name": "python3"
  },
  "language_info": {
   "codemirror_mode": {
    "name": "ipython",
    "version": 3
   },
   "file_extension": ".py",
   "mimetype": "text/x-python",
   "name": "python",
   "nbconvert_exporter": "python",
   "pygments_lexer": "ipython3",
   "version": "3.7.0"
  }
 },
 "nbformat": 4,
 "nbformat_minor": 2
}
